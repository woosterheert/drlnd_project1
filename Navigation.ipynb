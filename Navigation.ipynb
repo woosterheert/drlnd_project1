{
 "cells": [
  {
   "cell_type": "code",
   "execution_count": 1,
   "metadata": {},
   "outputs": [],
   "source": [
    "import torch\n",
    "from models import DQN, DQN_CNN\n",
    "from utils import Environment, ReplayBuffer, plot_results\n",
    "from agent import Agent"
   ]
  },
  {
   "cell_type": "markdown",
   "metadata": {},
   "source": [
    "# DQN"
   ]
  },
  {
   "cell_type": "code",
   "execution_count": 2,
   "metadata": {},
   "outputs": [
    {
     "name": "stderr",
     "output_type": "stream",
     "text": [
      "INFO:unityagents:\n",
      "'Academy' started successfully!\n",
      "Unity Academy name: Academy\n",
      "        Number of Brains: 1\n",
      "        Number of External Brains : 1\n",
      "        Lesson number : 0\n",
      "        Reset Parameters :\n",
      "\t\t\n",
      "Unity brain name: BananaBrain\n",
      "        Number of Visual Observations (per agent): 0\n",
      "        Vector Observation space type: continuous\n",
      "        Vector Observation space size (per agent): 37\n",
      "        Number of stacked Vector Observation: 1\n",
      "        Vector Action space type: discrete\n",
      "        Vector Action space size (per agent): 4\n",
      "        Vector Action descriptions: , , , \n"
     ]
    }
   ],
   "source": [
    "bananaWorld = Environment('unity_vector', 'Banana.app')"
   ]
  },
  {
   "cell_type": "code",
   "execution_count": 3,
   "metadata": {},
   "outputs": [],
   "source": [
    "config = {'lr': 0.001, 'alpha': 0.01, 'update_freq': 4, 'gamma': 0.99,\n",
    "          'tau': 0.001, 'max_nr_steps': 10000, 'algo': 'dqn',\n",
    "         'nr_episodes': 800, 'eps_min': 0.01, 'eps_decl': 0.995, \n",
    "         'output_freq': 100}"
   ]
  },
  {
   "cell_type": "code",
   "execution_count": 4,
   "metadata": {},
   "outputs": [],
   "source": [
    "local_network = DQN(bananaWorld.observation_space_size, bananaWorld.action_space_size,\n",
    "                    seed=0, hidden_layers=[16,16,16])\n",
    "target_network = DQN(bananaWorld.observation_space_size, bananaWorld.action_space_size,\n",
    "                     seed=0, hidden_layers=[16,16,16])\n",
    "memory = ReplayBuffer(buffer_size=10000, batch_size=32, seed=0)\n",
    "monkey = Agent(local_network, target_network, bananaWorld, memory, config, train_mode=True)"
   ]
  },
  {
   "cell_type": "code",
   "execution_count": null,
   "metadata": {},
   "outputs": [],
   "source": [
    "results = monkey.train()"
   ]
  },
  {
   "cell_type": "code",
   "execution_count": 10,
   "metadata": {},
   "outputs": [
    {
     "data": {
      "image/png": "[encoded data removed]",
      "text/plain": [
       "<Figure size 432x288 with 1 Axes>"
      ]
     },
     "metadata": {
      "needs_background": "light"
     },
     "output_type": "display_data"
    }
   ],
   "source": [
    "plot_results(results, window_size=100, target_score=13)"
   ]
  },
  {
   "cell_type": "markdown",
   "metadata": {},
   "source": [
    "### to watch trained agent in action:"
   ]
  },
  {
   "cell_type": "code",
   "execution_count": 8,
   "metadata": {},
   "outputs": [],
   "source": [
    "local_network = DQN(bananaWorld.observation_space_size, bananaWorld.action_space_size,\n",
    "                    seed=0, hidden_layers=[16,16,16])\n",
    "local_network.load_state_dict(torch.load('model.pth'))\n",
    "trained_monkey = Agent(local_network, local_network, bananaWorld, None, config, train_mode=False)"
   ]
  },
  {
   "cell_type": "code",
   "execution_count": 10,
   "metadata": {},
   "outputs": [
    {
     "name": "stdout",
     "output_type": "stream",
     "text": [
      "Monkey got 1.0 points!\n"
     ]
    }
   ],
   "source": [
    "trained_monkey.run()"
   ]
  },
  {
   "cell_type": "code",
   "execution_count": 3,
   "metadata": {},
   "outputs": [],
   "source": [
    "bananaWorld.close()"
   ]
  },
  {
   "cell_type": "markdown",
   "metadata": {},
   "source": [
    "# DQN from pixels"
   ]
  },
  {
   "cell_type": "code",
   "execution_count": 2,
   "metadata": {
    "scrolled": true
   },
   "outputs": [
    {
     "name": "stderr",
     "output_type": "stream",
     "text": [
      "INFO:unityagents:\n",
      "'Academy' started successfully!\n",
      "Unity Academy name: Academy\n",
      "        Number of Brains: 1\n",
      "        Number of External Brains : 1\n",
      "        Lesson number : 0\n",
      "        Reset Parameters :\n",
      "\t\t\n",
      "Unity brain name: BananaBrain\n",
      "        Number of Visual Observations (per agent): 1\n",
      "        Vector Observation space type: continuous\n",
      "        Vector Observation space size (per agent): 0\n",
      "        Number of stacked Vector Observation: 1\n",
      "        Vector Action space type: discrete\n",
      "        Vector Action space size (per agent): 4\n",
      "        Vector Action descriptions: , , , \n"
     ]
    }
   ],
   "source": [
    "bananaWorld = Environment('unity_visual', 'VisualBanana.app')"
   ]
  },
  {
   "cell_type": "code",
   "execution_count": null,
   "metadata": {},
   "outputs": [],
   "source": [
    "config = {'lr': 0.001, 'alpha': 0.01, 'update_freq': 4, 'gamma': 0.99,\n",
    "          'tau': 0.001, 'max_nr_steps': 10000, 'algo': 'dqn',\n",
    "         'nr_episodes': 100, 'eps_min': 0.01, 'eps_decl': 0.995, \n",
    "         'output_freq': 10}"
   ]
  },
  {
   "cell_type": "code",
   "execution_count": null,
   "metadata": {},
   "outputs": [],
   "source": [
    "local_network = DQN(bananaWorld.observation_space_size, bananaWorld.action_space_size,\n",
    "                    seed=0, hidden_layers=[16,16,16])\n",
    "target_network = DQN(bananaWorld.observation_space_size, bananaWorld.action_space_size,\n",
    "                     seed=0, hidden_layers=[16,16,16])\n",
    "memory = ReplayBuffer(buffer_size=10000, batch_size=32, seed=0)\n",
    "monkey = Agent(local_network, target_network, bananaWorld, memory, config, train_mode=True)"
   ]
  },
  {
   "cell_type": "code",
   "execution_count": null,
   "metadata": {},
   "outputs": [],
   "source": [
    "results = monkey.train()"
   ]
  },
  {
   "cell_type": "code",
   "execution_count": null,
   "metadata": {},
   "outputs": [],
   "source": [
    "plot_results(results, window_size=100, target_score=13)"
   ]
  },
  {
   "cell_type": "code",
   "execution_count": null,
   "metadata": {},
   "outputs": [],
   "source": [
    "bananaWorld.close()"
   ]
  },
  {
   "cell_type": "markdown",
   "metadata": {},
   "source": [
    "# Double DQN"
   ]
  },
  {
   "cell_type": "code",
   "execution_count": null,
   "metadata": {},
   "outputs": [],
   "source": [
    "bananaWorld = Environment('unity_vector', 'Banana.app')"
   ]
  },
  {
   "cell_type": "code",
   "execution_count": null,
   "metadata": {},
   "outputs": [],
   "source": [
    "config = {'lr': 0.001, 'alpha': 0.01, 'update_freq': 4, 'gamma': 0.99,\n",
    "          'tau': 0.001, 'max_nr_steps': 10000, 'algo': 'double_dqn',\n",
    "         'nr_episodes': 800, 'eps_min': 0.01, 'eps_decl': 0.995, \n",
    "         'output_freq': 100}"
   ]
  },
  {
   "cell_type": "code",
   "execution_count": null,
   "metadata": {},
   "outputs": [],
   "source": [
    "local_network = DQN(bananaWorld.observation_space_size, bananaWorld.action_space_size,\n",
    "                    seed=0, hidden_layers=[16,16,16])\n",
    "target_network = DQN(bananaWorld.observation_space_size, bananaWorld.action_space_size,\n",
    "                     seed=0, hidden_layers=[16,16,16])\n",
    "memory = ReplayBuffer(buffer_size=10000, batch_size=32, seed=0)\n",
    "monkey = Agent(local_network, target_network, bananaWorld, memory, config, train_mode=True)"
   ]
  },
  {
   "cell_type": "code",
   "execution_count": null,
   "metadata": {},
   "outputs": [],
   "source": [
    "results = monkey.train()"
   ]
  },
  {
   "cell_type": "code",
   "execution_count": null,
   "metadata": {},
   "outputs": [],
   "source": [
    "plot_results(results, window_size=100, target_score=13)"
   ]
  },
  {
   "cell_type": "code",
   "execution_count": null,
   "metadata": {},
   "outputs": [],
   "source": [
    "bananaWorld.close()"
   ]
  }
 ],
 "metadata": {
  "kernelspec": {
   "display_name": "drlnd",
   "language": "python",
   "name": "drlnd"
  },
  "language_info": {
   "codemirror_mode": {
    "name": "ipython",
    "version": 3
   },
   "file_extension": ".py",
   "mimetype": "text/x-python",
   "name": "python",
   "nbconvert_exporter": "python",
   "pygments_lexer": "ipython3",
   "version": "3.6.12"
  }
 },
 "nbformat": 4,
 "nbformat_minor": 4
}
